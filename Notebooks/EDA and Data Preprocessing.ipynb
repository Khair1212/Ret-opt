{
 "cells": [
  {
   "cell_type": "code",
   "execution_count": 4,
   "id": "ed9a8505",
   "metadata": {},
   "outputs": [
    {
     "name": "stdout",
     "output_type": "stream",
     "text": [
      "Requirement already satisfied: lightfm in /Users/khair1212/opt/anaconda3/lib/python3.9/site-packages (1.16)\n",
      "Requirement already satisfied: requests in /Users/khair1212/opt/anaconda3/lib/python3.9/site-packages (from lightfm) (2.28.1)\n",
      "Requirement already satisfied: scipy>=0.17.0 in /Users/khair1212/opt/anaconda3/lib/python3.9/site-packages (from lightfm) (1.7.3)\n",
      "Requirement already satisfied: numpy in /Users/khair1212/opt/anaconda3/lib/python3.9/site-packages (from lightfm) (1.21.5)\n",
      "Requirement already satisfied: scikit-learn in /Users/khair1212/opt/anaconda3/lib/python3.9/site-packages (from lightfm) (1.1.3)\n",
      "Requirement already satisfied: certifi>=2017.4.17 in /Users/khair1212/opt/anaconda3/lib/python3.9/site-packages (from requests->lightfm) (2022.9.24)\n",
      "Requirement already satisfied: urllib3<1.27,>=1.21.1 in /Users/khair1212/opt/anaconda3/lib/python3.9/site-packages (from requests->lightfm) (1.26.11)\n",
      "Requirement already satisfied: idna<4,>=2.5 in /Users/khair1212/opt/anaconda3/lib/python3.9/site-packages (from requests->lightfm) (3.3)\n",
      "Requirement already satisfied: charset-normalizer<3,>=2 in /Users/khair1212/opt/anaconda3/lib/python3.9/site-packages (from requests->lightfm) (2.0.4)\n",
      "Requirement already satisfied: threadpoolctl>=2.0.0 in /Users/khair1212/opt/anaconda3/lib/python3.9/site-packages (from scikit-learn->lightfm) (2.2.0)\n",
      "Requirement already satisfied: joblib>=1.0.0 in /Users/khair1212/opt/anaconda3/lib/python3.9/site-packages (from scikit-learn->lightfm) (1.1.0)\n"
     ]
    }
   ],
   "source": [
    "#import necessary packages\n",
    "\n",
    "import numpy as np\n",
    "import pandas as pd\n",
    "import matplotlib.pyplot as plt\n",
    "from sklearn.cluster import KMeans\n",
    "import scipy.sparse as sparse\n",
    "from scipy.sparse import csr_matrix\n",
    "import os\n",
    "\n",
    "from sklearn import preprocessing \n",
    "import seaborn as sns\n",
    "!pip install lightfm\n",
    "from lightfm.cross_validation import random_train_test_split\n",
    "from lightfm.evaluation import auc_score, precision_at_k, recall_at_k\n",
    "from lightfm import LightFM\n",
    "\n",
    "\n",
    "\n"
   ]
  },
  {
   "cell_type": "markdown",
   "id": "1842546c",
   "metadata": {},
   "source": [
    "# 1)  Data Onboarding and Initial Checking\n",
    "\n",
    "## i) See basics of data  "
   ]
  },
  {
   "cell_type": "code",
   "execution_count": 5,
   "id": "4f31cd4a",
   "metadata": {},
   "outputs": [],
   "source": [
    "tran_df = pd.read_csv('../archive/Transactions.csv')\n",
    "cust_df = pd.read_csv('../archive/Customer.csv')\n",
    "prod_df = pd.read_csv('../archive/prod_cat_info.csv')"
   ]
  },
  {
   "cell_type": "code",
   "execution_count": 6,
   "id": "dc74cfd6",
   "metadata": {},
   "outputs": [
    {
     "data": {
      "text/html": [
       "<div>\n",
       "<style scoped>\n",
       "    .dataframe tbody tr th:only-of-type {\n",
       "        vertical-align: middle;\n",
       "    }\n",
       "\n",
       "    .dataframe tbody tr th {\n",
       "        vertical-align: top;\n",
       "    }\n",
       "\n",
       "    .dataframe thead th {\n",
       "        text-align: right;\n",
       "    }\n",
       "</style>\n",
       "<table border=\"1\" class=\"dataframe\">\n",
       "  <thead>\n",
       "    <tr style=\"text-align: right;\">\n",
       "      <th></th>\n",
       "      <th>transaction_id</th>\n",
       "      <th>cust_id</th>\n",
       "      <th>tran_date</th>\n",
       "      <th>prod_subcat_code</th>\n",
       "      <th>prod_cat_code</th>\n",
       "      <th>Qty</th>\n",
       "      <th>Rate</th>\n",
       "      <th>Tax</th>\n",
       "      <th>total_amt</th>\n",
       "      <th>Store_type</th>\n",
       "    </tr>\n",
       "  </thead>\n",
       "  <tbody>\n",
       "    <tr>\n",
       "      <th>0</th>\n",
       "      <td>80712190438</td>\n",
       "      <td>270351</td>\n",
       "      <td>28-02-2014</td>\n",
       "      <td>1</td>\n",
       "      <td>1</td>\n",
       "      <td>-5</td>\n",
       "      <td>-772</td>\n",
       "      <td>405.300</td>\n",
       "      <td>-4265.300</td>\n",
       "      <td>e-Shop</td>\n",
       "    </tr>\n",
       "    <tr>\n",
       "      <th>1</th>\n",
       "      <td>29258453508</td>\n",
       "      <td>270384</td>\n",
       "      <td>27-02-2014</td>\n",
       "      <td>5</td>\n",
       "      <td>3</td>\n",
       "      <td>-5</td>\n",
       "      <td>-1497</td>\n",
       "      <td>785.925</td>\n",
       "      <td>-8270.925</td>\n",
       "      <td>e-Shop</td>\n",
       "    </tr>\n",
       "    <tr>\n",
       "      <th>2</th>\n",
       "      <td>51750724947</td>\n",
       "      <td>273420</td>\n",
       "      <td>24-02-2014</td>\n",
       "      <td>6</td>\n",
       "      <td>5</td>\n",
       "      <td>-2</td>\n",
       "      <td>-791</td>\n",
       "      <td>166.110</td>\n",
       "      <td>-1748.110</td>\n",
       "      <td>TeleShop</td>\n",
       "    </tr>\n",
       "    <tr>\n",
       "      <th>3</th>\n",
       "      <td>93274880719</td>\n",
       "      <td>271509</td>\n",
       "      <td>24-02-2014</td>\n",
       "      <td>11</td>\n",
       "      <td>6</td>\n",
       "      <td>-3</td>\n",
       "      <td>-1363</td>\n",
       "      <td>429.345</td>\n",
       "      <td>-4518.345</td>\n",
       "      <td>e-Shop</td>\n",
       "    </tr>\n",
       "    <tr>\n",
       "      <th>4</th>\n",
       "      <td>51750724947</td>\n",
       "      <td>273420</td>\n",
       "      <td>23-02-2014</td>\n",
       "      <td>6</td>\n",
       "      <td>5</td>\n",
       "      <td>-2</td>\n",
       "      <td>-791</td>\n",
       "      <td>166.110</td>\n",
       "      <td>-1748.110</td>\n",
       "      <td>TeleShop</td>\n",
       "    </tr>\n",
       "  </tbody>\n",
       "</table>\n",
       "</div>"
      ],
      "text/plain": [
       "   transaction_id  cust_id   tran_date  prod_subcat_code  prod_cat_code  Qty  \\\n",
       "0     80712190438   270351  28-02-2014                 1              1   -5   \n",
       "1     29258453508   270384  27-02-2014                 5              3   -5   \n",
       "2     51750724947   273420  24-02-2014                 6              5   -2   \n",
       "3     93274880719   271509  24-02-2014                11              6   -3   \n",
       "4     51750724947   273420  23-02-2014                 6              5   -2   \n",
       "\n",
       "   Rate      Tax  total_amt Store_type  \n",
       "0  -772  405.300  -4265.300     e-Shop  \n",
       "1 -1497  785.925  -8270.925     e-Shop  \n",
       "2  -791  166.110  -1748.110   TeleShop  \n",
       "3 -1363  429.345  -4518.345     e-Shop  \n",
       "4  -791  166.110  -1748.110   TeleShop  "
      ]
     },
     "execution_count": 6,
     "metadata": {},
     "output_type": "execute_result"
    }
   ],
   "source": [
    "tran_df.head()"
   ]
  },
  {
   "cell_type": "code",
   "execution_count": 7,
   "id": "ada5eae9",
   "metadata": {},
   "outputs": [
    {
     "data": {
      "text/html": [
       "<div>\n",
       "<style scoped>\n",
       "    .dataframe tbody tr th:only-of-type {\n",
       "        vertical-align: middle;\n",
       "    }\n",
       "\n",
       "    .dataframe tbody tr th {\n",
       "        vertical-align: top;\n",
       "    }\n",
       "\n",
       "    .dataframe thead th {\n",
       "        text-align: right;\n",
       "    }\n",
       "</style>\n",
       "<table border=\"1\" class=\"dataframe\">\n",
       "  <thead>\n",
       "    <tr style=\"text-align: right;\">\n",
       "      <th></th>\n",
       "      <th>customer_Id</th>\n",
       "      <th>DOB</th>\n",
       "      <th>Gender</th>\n",
       "      <th>city_code</th>\n",
       "    </tr>\n",
       "  </thead>\n",
       "  <tbody>\n",
       "    <tr>\n",
       "      <th>0</th>\n",
       "      <td>268408</td>\n",
       "      <td>02-01-1970</td>\n",
       "      <td>M</td>\n",
       "      <td>4.0</td>\n",
       "    </tr>\n",
       "    <tr>\n",
       "      <th>1</th>\n",
       "      <td>269696</td>\n",
       "      <td>07-01-1970</td>\n",
       "      <td>F</td>\n",
       "      <td>8.0</td>\n",
       "    </tr>\n",
       "    <tr>\n",
       "      <th>2</th>\n",
       "      <td>268159</td>\n",
       "      <td>08-01-1970</td>\n",
       "      <td>F</td>\n",
       "      <td>8.0</td>\n",
       "    </tr>\n",
       "    <tr>\n",
       "      <th>3</th>\n",
       "      <td>270181</td>\n",
       "      <td>10-01-1970</td>\n",
       "      <td>F</td>\n",
       "      <td>2.0</td>\n",
       "    </tr>\n",
       "    <tr>\n",
       "      <th>4</th>\n",
       "      <td>268073</td>\n",
       "      <td>11-01-1970</td>\n",
       "      <td>M</td>\n",
       "      <td>1.0</td>\n",
       "    </tr>\n",
       "  </tbody>\n",
       "</table>\n",
       "</div>"
      ],
      "text/plain": [
       "   customer_Id         DOB Gender  city_code\n",
       "0       268408  02-01-1970      M        4.0\n",
       "1       269696  07-01-1970      F        8.0\n",
       "2       268159  08-01-1970      F        8.0\n",
       "3       270181  10-01-1970      F        2.0\n",
       "4       268073  11-01-1970      M        1.0"
      ]
     },
     "execution_count": 7,
     "metadata": {},
     "output_type": "execute_result"
    }
   ],
   "source": [
    "cust_df.head()"
   ]
  },
  {
   "cell_type": "code",
   "execution_count": 8,
   "id": "d826eca6",
   "metadata": {},
   "outputs": [
    {
     "data": {
      "text/html": [
       "<div>\n",
       "<style scoped>\n",
       "    .dataframe tbody tr th:only-of-type {\n",
       "        vertical-align: middle;\n",
       "    }\n",
       "\n",
       "    .dataframe tbody tr th {\n",
       "        vertical-align: top;\n",
       "    }\n",
       "\n",
       "    .dataframe thead th {\n",
       "        text-align: right;\n",
       "    }\n",
       "</style>\n",
       "<table border=\"1\" class=\"dataframe\">\n",
       "  <thead>\n",
       "    <tr style=\"text-align: right;\">\n",
       "      <th></th>\n",
       "      <th>prod_cat_code</th>\n",
       "      <th>prod_cat</th>\n",
       "      <th>prod_sub_cat_code</th>\n",
       "      <th>prod_subcat</th>\n",
       "    </tr>\n",
       "  </thead>\n",
       "  <tbody>\n",
       "    <tr>\n",
       "      <th>0</th>\n",
       "      <td>1</td>\n",
       "      <td>Clothing</td>\n",
       "      <td>4</td>\n",
       "      <td>Mens</td>\n",
       "    </tr>\n",
       "    <tr>\n",
       "      <th>1</th>\n",
       "      <td>1</td>\n",
       "      <td>Clothing</td>\n",
       "      <td>1</td>\n",
       "      <td>Women</td>\n",
       "    </tr>\n",
       "    <tr>\n",
       "      <th>2</th>\n",
       "      <td>1</td>\n",
       "      <td>Clothing</td>\n",
       "      <td>3</td>\n",
       "      <td>Kids</td>\n",
       "    </tr>\n",
       "    <tr>\n",
       "      <th>3</th>\n",
       "      <td>2</td>\n",
       "      <td>Footwear</td>\n",
       "      <td>1</td>\n",
       "      <td>Mens</td>\n",
       "    </tr>\n",
       "    <tr>\n",
       "      <th>4</th>\n",
       "      <td>2</td>\n",
       "      <td>Footwear</td>\n",
       "      <td>3</td>\n",
       "      <td>Women</td>\n",
       "    </tr>\n",
       "  </tbody>\n",
       "</table>\n",
       "</div>"
      ],
      "text/plain": [
       "   prod_cat_code  prod_cat  prod_sub_cat_code prod_subcat\n",
       "0              1  Clothing                  4        Mens\n",
       "1              1  Clothing                  1       Women\n",
       "2              1  Clothing                  3        Kids\n",
       "3              2  Footwear                  1        Mens\n",
       "4              2  Footwear                  3       Women"
      ]
     },
     "execution_count": 8,
     "metadata": {},
     "output_type": "execute_result"
    }
   ],
   "source": [
    "prod_df.head()"
   ]
  },
  {
   "cell_type": "markdown",
   "id": "00293dc1",
   "metadata": {},
   "source": [
    "## ii) Check the datatype, shape and missing elements\n",
    "Let's check for any mismatch in datatype, any missing instances and also their shape."
   ]
  },
  {
   "cell_type": "code",
   "execution_count": 9,
   "id": "89a7ae3a",
   "metadata": {},
   "outputs": [
    {
     "name": "stdout",
     "output_type": "stream",
     "text": [
      "<class 'pandas.core.frame.DataFrame'>\n",
      "RangeIndex: 23053 entries, 0 to 23052\n",
      "Data columns (total 10 columns):\n",
      " #   Column            Non-Null Count  Dtype  \n",
      "---  ------            --------------  -----  \n",
      " 0   transaction_id    23053 non-null  int64  \n",
      " 1   cust_id           23053 non-null  int64  \n",
      " 2   tran_date         23053 non-null  object \n",
      " 3   prod_subcat_code  23053 non-null  int64  \n",
      " 4   prod_cat_code     23053 non-null  int64  \n",
      " 5   Qty               23053 non-null  int64  \n",
      " 6   Rate              23053 non-null  int64  \n",
      " 7   Tax               23053 non-null  float64\n",
      " 8   total_amt         23053 non-null  float64\n",
      " 9   Store_type        23053 non-null  object \n",
      "dtypes: float64(2), int64(6), object(2)\n",
      "memory usage: 1.8+ MB\n"
     ]
    }
   ],
   "source": [
    "tran_df.info()"
   ]
  },
  {
   "cell_type": "code",
   "execution_count": 10,
   "id": "1d0a4ea6",
   "metadata": {},
   "outputs": [
    {
     "name": "stdout",
     "output_type": "stream",
     "text": [
      "<class 'pandas.core.frame.DataFrame'>\n",
      "RangeIndex: 5647 entries, 0 to 5646\n",
      "Data columns (total 4 columns):\n",
      " #   Column       Non-Null Count  Dtype  \n",
      "---  ------       --------------  -----  \n",
      " 0   customer_Id  5647 non-null   int64  \n",
      " 1   DOB          5647 non-null   object \n",
      " 2   Gender       5645 non-null   object \n",
      " 3   city_code    5645 non-null   float64\n",
      "dtypes: float64(1), int64(1), object(2)\n",
      "memory usage: 176.6+ KB\n"
     ]
    }
   ],
   "source": [
    "cust_df.info()"
   ]
  },
  {
   "cell_type": "code",
   "execution_count": 11,
   "id": "d182fd55",
   "metadata": {},
   "outputs": [
    {
     "name": "stdout",
     "output_type": "stream",
     "text": [
      "<class 'pandas.core.frame.DataFrame'>\n",
      "RangeIndex: 23 entries, 0 to 22\n",
      "Data columns (total 4 columns):\n",
      " #   Column             Non-Null Count  Dtype \n",
      "---  ------             --------------  ----- \n",
      " 0   prod_cat_code      23 non-null     int64 \n",
      " 1   prod_cat           23 non-null     object\n",
      " 2   prod_sub_cat_code  23 non-null     int64 \n",
      " 3   prod_subcat        23 non-null     object\n",
      "dtypes: int64(2), object(2)\n",
      "memory usage: 864.0+ bytes\n"
     ]
    }
   ],
   "source": [
    "prod_df.info()"
   ]
  },
  {
   "cell_type": "code",
   "execution_count": 12,
   "id": "a44b2ea0",
   "metadata": {},
   "outputs": [
    {
     "name": "stdout",
     "output_type": "stream",
     "text": [
      "(23053, 10)\n",
      "(5647, 4)\n",
      "(23, 4)\n"
     ]
    }
   ],
   "source": [
    "print(tran_df.shape)\n",
    "print(cust_df.shape)\n",
    "print(prod_df.shape)"
   ]
  },
  {
   "cell_type": "markdown",
   "id": "1fd00a81",
   "metadata": {},
   "source": [
    "## Missing Elements\n",
    "Gender and City Code information are missing in 2 of the customer. We are not removing them now. We will take action while we use them in recommendation."
   ]
  },
  {
   "cell_type": "code",
   "execution_count": 13,
   "id": "d2ad2876",
   "metadata": {},
   "outputs": [
    {
     "data": {
      "text/plain": [
       "customer_Id    0\n",
       "DOB            0\n",
       "Gender         2\n",
       "city_code      2\n",
       "dtype: int64"
      ]
     },
     "execution_count": 13,
     "metadata": {},
     "output_type": "execute_result"
    }
   ],
   "source": [
    "cust_df.isnull().sum()"
   ]
  },
  {
   "cell_type": "markdown",
   "id": "1989fde3",
   "metadata": {},
   "source": [
    "# 2) Exploratory Data Analysis (EDA) \n"
   ]
  },
  {
   "cell_type": "markdown",
   "id": "3df6ae03",
   "metadata": {},
   "source": [
    "## i) Rename the column names for more clarity "
   ]
  },
  {
   "cell_type": "code",
   "execution_count": 14,
   "id": "d0c9dfa2",
   "metadata": {},
   "outputs": [],
   "source": [
    "tran_df.columns = ['Transaction ID', 'Customer ID', 'Transaction Date', 'Prod Subcat Code',\n",
    "       'Prod Cat Code', 'Qty', 'Rate', 'Tax', 'Total Amt', 'Store Type']\n",
    "cust_df.columns = ['Customer ID', 'DOB', 'Gender', 'City Code']\n",
    "\n",
    "prod_df.columns = ['Prod Cat Code', 'Prod Cat', 'Prod Subcat Code', 'Prod Subcat']"
   ]
  },
  {
   "cell_type": "markdown",
   "id": "23266649",
   "metadata": {},
   "source": [
    "## ii) Univariate Analysis "
   ]
  },
  {
   "cell_type": "code",
   "execution_count": 15,
   "id": "66b1f8a4",
   "metadata": {},
   "outputs": [],
   "source": [
    "# first define the functions for the different plots "
   ]
  },
  {
   "cell_type": "code",
   "execution_count": 16,
   "id": "477780b9",
   "metadata": {},
   "outputs": [],
   "source": [
    "def bar_chart(df, feature1, feature2):\n",
    "    sns.barplot(x = feature1, y = feature2, data = df)\n",
    "    plt.show()"
   ]
  },
  {
   "cell_type": "code",
   "execution_count": 17,
   "id": "64c4d4f0",
   "metadata": {},
   "outputs": [],
   "source": [
    "def count_plot(df, feature, rotation = 0):\n",
    "    ax = sns.countplot(x = feature, data = df, palette = 'viridis')\n",
    "    ax.bar_label(ax.containers[0])\n",
    "    plt.xticks(rotation = rotation)\n",
    "    plt.show()"
   ]
  },
  {
   "cell_type": "code",
   "execution_count": 18,
   "id": "4d83bfb4",
   "metadata": {},
   "outputs": [],
   "source": [
    "def box_plot(df, feature):\n",
    "    sns.boxplot(x = feature, data = df, palette = 'viridis')\n",
    "    plt.show()"
   ]
  },
  {
   "cell_type": "markdown",
   "id": "4e91e970",
   "metadata": {},
   "source": [
    "<h3 style=\"color:orange\"> Customer Data Analysis<h1>"
   ]
  },
  {
   "cell_type": "code",
   "execution_count": 19,
   "id": "7fe2089a",
   "metadata": {},
   "outputs": [
    {
     "data": {
      "image/png": "[encoded data removed]",
      "text/plain": [
       "<Figure size 640x480 with 1 Axes>"
      ]
     },
     "metadata": {},
     "output_type": "display_data"
    }
   ],
   "source": [
    "count_plot(cust_df, 'Gender')"
   ]
  },
  {
   "cell_type": "code",
   "execution_count": 20,
   "id": "9460b4d6",
   "metadata": {},
   "outputs": [
    {
     "data": {
      "image/png": "[encoded data removed]",
      "text/plain": [
       "<Figure size 640x480 with 1 Axes>"
      ]
     },
     "metadata": {},
     "output_type": "display_data"
    }
   ],
   "source": [
    "count_plot(cust_df, 'City Code')"
   ]
  },
  {
   "cell_type": "markdown",
   "id": "99171e2c",
   "metadata": {},
   "source": [
    "<h3 style=\"color:orange\">Transactions data Analysis </h3>"
   ]
  },
  {
   "cell_type": "code",
   "execution_count": 21,
   "id": "19b904b1",
   "metadata": {},
   "outputs": [
    {
     "data": {
      "image/png": "[encoded data removed]",
      "text/plain": [
       "<Figure size 640x480 with 1 Axes>"
      ]
     },
     "metadata": {},
     "output_type": "display_data"
    }
   ],
   "source": [
    "count_plot(tran_df, 'Store Type')"
   ]
  },
  {
   "cell_type": "code",
   "execution_count": 22,
   "id": "b03174c2",
   "metadata": {},
   "outputs": [
    {
     "data": {
      "image/png": "[encoded data removed]",
      "text/plain": [
       "<Figure size 640x480 with 1 Axes>"
      ]
     },
     "metadata": {},
     "output_type": "display_data"
    }
   ],
   "source": [
    "box_plot(tran_df, 'Total Amt')"
   ]
  },
  {
   "cell_type": "markdown",
   "id": "15a30e40",
   "metadata": {},
   "source": [
    "There has some negative values detected for total amount which is misleading. We will take care of this in the preprocessing part "
   ]
  },
  {
   "cell_type": "code",
   "execution_count": 23,
   "id": "f52f18ee",
   "metadata": {},
   "outputs": [
    {
     "data": {
      "image/png": "[encoded data removed]",
      "text/plain": [
       "<Figure size 640x480 with 1 Axes>"
      ]
     },
     "metadata": {},
     "output_type": "display_data"
    }
   ],
   "source": [
    "box_plot(tran_df, 'Qty')"
   ]
  },
  {
   "cell_type": "markdown",
   "id": "73c029fd",
   "metadata": {},
   "source": [
    "Here also negative values found in the Quantity attribute which is misleading"
   ]
  },
  {
   "cell_type": "code",
   "execution_count": 24,
   "id": "ee98cb03",
   "metadata": {},
   "outputs": [
    {
     "data": {
      "image/png": "[encoded data removed]",
      "text/plain": [
       "<Figure size 640x480 with 1 Axes>"
      ]
     },
     "metadata": {},
     "output_type": "display_data"
    }
   ],
   "source": [
    "box_plot(tran_df, 'Rate')"
   ]
  },
  {
   "cell_type": "markdown",
   "id": "78e765f9",
   "metadata": {},
   "source": [
    "same goes for the Amount attribute, negative values in Rate is misleading"
   ]
  },
  {
   "cell_type": "code",
   "execution_count": 25,
   "id": "ad1b04d7",
   "metadata": {},
   "outputs": [
    {
     "data": {
      "image/png": "[encoded data removed]",
      "text/plain": [
       "<Figure size 640x480 with 1 Axes>"
      ]
     },
     "metadata": {},
     "output_type": "display_data"
    }
   ],
   "source": [
    "box_plot(tran_df, 'Tax')"
   ]
  },
  {
   "cell_type": "markdown",
   "id": "480d8cb9",
   "metadata": {},
   "source": [
    "<h3 style=\"color:orange\"> Product Analysis <h3>"
   ]
  },
  {
   "cell_type": "code",
   "execution_count": 26,
   "id": "c625780e",
   "metadata": {},
   "outputs": [
    {
     "data": {
      "image/png": "[encoded data removed]",
      "text/plain": [
       "<Figure size 640x480 with 1 Axes>"
      ]
     },
     "metadata": {},
     "output_type": "display_data"
    }
   ],
   "source": [
    "count_plot(prod_df, 'Prod Cat', 45)\n"
   ]
  },
  {
   "cell_type": "code",
   "execution_count": 27,
   "id": "a5dbf7e0",
   "metadata": {},
   "outputs": [
    {
     "data": {
      "image/png": "[encoded data removed]",
      "text/plain": [
       "<Figure size 640x480 with 1 Axes>"
      ]
     },
     "metadata": {},
     "output_type": "display_data"
    }
   ],
   "source": [
    "count_plot(prod_df, 'Prod Subcat', 70)"
   ]
  },
  {
   "cell_type": "markdown",
   "id": "104ae1bb",
   "metadata": {},
   "source": [
    "# iii) Bivariate Analysis"
   ]
  },
  {
   "cell_type": "code",
   "execution_count": null,
   "id": "b6c35a6e",
   "metadata": {},
   "outputs": [],
   "source": []
  },
  {
   "cell_type": "code",
   "execution_count": null,
   "id": "03ba818b",
   "metadata": {},
   "outputs": [],
   "source": []
  },
  {
   "cell_type": "code",
   "execution_count": null,
   "id": "825f8070",
   "metadata": {},
   "outputs": [],
   "source": []
  },
  {
   "cell_type": "code",
   "execution_count": null,
   "id": "73941f0c",
   "metadata": {},
   "outputs": [],
   "source": []
  },
  {
   "cell_type": "code",
   "execution_count": null,
   "id": "5837cdc1",
   "metadata": {},
   "outputs": [],
   "source": []
  },
  {
   "cell_type": "code",
   "execution_count": null,
   "id": "1b336f86",
   "metadata": {},
   "outputs": [],
   "source": []
  },
  {
   "cell_type": "code",
   "execution_count": null,
   "id": "5939ab72",
   "metadata": {},
   "outputs": [],
   "source": []
  },
  {
   "cell_type": "code",
   "execution_count": null,
   "id": "90fda3bb",
   "metadata": {},
   "outputs": [],
   "source": []
  },
  {
   "cell_type": "code",
   "execution_count": null,
   "id": "4cdbe37a",
   "metadata": {},
   "outputs": [],
   "source": []
  },
  {
   "cell_type": "code",
   "execution_count": null,
   "id": "06993859",
   "metadata": {},
   "outputs": [],
   "source": []
  },
  {
   "cell_type": "code",
   "execution_count": null,
   "id": "3ca69165",
   "metadata": {},
   "outputs": [],
   "source": []
  },
  {
   "cell_type": "code",
   "execution_count": null,
   "id": "7b027f91",
   "metadata": {},
   "outputs": [],
   "source": []
  },
  {
   "cell_type": "markdown",
   "id": "0d985250",
   "metadata": {},
   "source": [
    "# 3) Data Cleaning and Preprocessing "
   ]
  },
  {
   "cell_type": "markdown",
   "id": "270fb80b",
   "metadata": {},
   "source": [
    "## i) Transaction Data"
   ]
  },
  {
   "cell_type": "code",
   "execution_count": 28,
   "id": "56f39cd1",
   "metadata": {},
   "outputs": [],
   "source": [
    "#first make a copy, we don't want to ruin our main dataframe\n",
    "tran_df2 = tran_df.copy()\n",
    "cust_df2 = cust_df.copy()\n",
    "prod_df2 = prod_df.copy()"
   ]
  },
  {
   "cell_type": "markdown",
   "id": "5f9c9803",
   "metadata": {},
   "source": [
    "### Preprocessing Steps\n",
    "1. Remove inappropriate rows (Total amount, Rate, Qty can't be negative).\n",
    "2. Convert Transaction Date to date time format.\n",
    "3. Calculate netsales (without Tax)"
   ]
  },
  {
   "cell_type": "code",
   "execution_count": 29,
   "id": "77270832",
   "metadata": {},
   "outputs": [],
   "source": [
    "# Remove inappropriate rows (Negative Qty, Rate and Total Amount all are associated, So considering 1 column will work)\n",
    "tran_df2 = tran_df2[tran_df2['Total Amt'] > 0] "
   ]
  },
  {
   "cell_type": "code",
   "execution_count": 30,
   "id": "eaf4080b",
   "metadata": {},
   "outputs": [
    {
     "data": {
      "image/png": "[encoded data removed]",
      "text/plain": [
       "<Figure size 640x480 with 1 Axes>"
      ]
     },
     "metadata": {},
     "output_type": "display_data"
    }
   ],
   "source": [
    "# now check\n",
    "box_plot(tran_df2, 'Total Amt')"
   ]
  },
  {
   "cell_type": "code",
   "execution_count": 31,
   "id": "7be926dc",
   "metadata": {},
   "outputs": [],
   "source": [
    "#convert date to datetime format \n",
    "tran_df2['Transaction Date'] = pd.to_datetime(tran_df2['Transaction Date'],dayfirst = True) "
   ]
  },
  {
   "cell_type": "code",
   "execution_count": 32,
   "id": "e527c9ab",
   "metadata": {},
   "outputs": [],
   "source": [
    "#Calculate netsales (without Tax)\n",
    "tran_df2['Net_Sales'] = tran_df2['Qty'] * tran_df2['Rate'] "
   ]
  },
  {
   "cell_type": "code",
   "execution_count": 33,
   "id": "f19bdae4",
   "metadata": {},
   "outputs": [
    {
     "data": {
      "text/html": [
       "<div>\n",
       "<style scoped>\n",
       "    .dataframe tbody tr th:only-of-type {\n",
       "        vertical-align: middle;\n",
       "    }\n",
       "\n",
       "    .dataframe tbody tr th {\n",
       "        vertical-align: top;\n",
       "    }\n",
       "\n",
       "    .dataframe thead th {\n",
       "        text-align: right;\n",
       "    }\n",
       "</style>\n",
       "<table border=\"1\" class=\"dataframe\">\n",
       "  <thead>\n",
       "    <tr style=\"text-align: right;\">\n",
       "      <th></th>\n",
       "      <th>Transaction ID</th>\n",
       "      <th>Customer ID</th>\n",
       "      <th>Transaction Date</th>\n",
       "      <th>Prod Subcat Code</th>\n",
       "      <th>Prod Cat Code</th>\n",
       "      <th>Qty</th>\n",
       "      <th>Rate</th>\n",
       "      <th>Tax</th>\n",
       "      <th>Total Amt</th>\n",
       "      <th>Store Type</th>\n",
       "      <th>Net_Sales</th>\n",
       "    </tr>\n",
       "  </thead>\n",
       "  <tbody>\n",
       "    <tr>\n",
       "      <th>10</th>\n",
       "      <td>29258453508</td>\n",
       "      <td>270384</td>\n",
       "      <td>2014-02-20</td>\n",
       "      <td>5</td>\n",
       "      <td>3</td>\n",
       "      <td>5</td>\n",
       "      <td>1497</td>\n",
       "      <td>785.925</td>\n",
       "      <td>8270.925</td>\n",
       "      <td>e-Shop</td>\n",
       "      <td>7485</td>\n",
       "    </tr>\n",
       "    <tr>\n",
       "      <th>11</th>\n",
       "      <td>25455265351</td>\n",
       "      <td>267750</td>\n",
       "      <td>2014-02-20</td>\n",
       "      <td>12</td>\n",
       "      <td>6</td>\n",
       "      <td>3</td>\n",
       "      <td>1360</td>\n",
       "      <td>428.400</td>\n",
       "      <td>4508.400</td>\n",
       "      <td>e-Shop</td>\n",
       "      <td>4080</td>\n",
       "    </tr>\n",
       "    <tr>\n",
       "      <th>12</th>\n",
       "      <td>1571002198</td>\n",
       "      <td>275023</td>\n",
       "      <td>2014-02-20</td>\n",
       "      <td>6</td>\n",
       "      <td>5</td>\n",
       "      <td>4</td>\n",
       "      <td>587</td>\n",
       "      <td>246.540</td>\n",
       "      <td>2594.540</td>\n",
       "      <td>e-Shop</td>\n",
       "      <td>2348</td>\n",
       "    </tr>\n",
       "    <tr>\n",
       "      <th>14</th>\n",
       "      <td>36554696014</td>\n",
       "      <td>269345</td>\n",
       "      <td>2014-02-20</td>\n",
       "      <td>3</td>\n",
       "      <td>5</td>\n",
       "      <td>3</td>\n",
       "      <td>1253</td>\n",
       "      <td>394.695</td>\n",
       "      <td>4153.695</td>\n",
       "      <td>e-Shop</td>\n",
       "      <td>3759</td>\n",
       "    </tr>\n",
       "    <tr>\n",
       "      <th>15</th>\n",
       "      <td>56814940239</td>\n",
       "      <td>268799</td>\n",
       "      <td>2014-02-20</td>\n",
       "      <td>7</td>\n",
       "      <td>5</td>\n",
       "      <td>5</td>\n",
       "      <td>368</td>\n",
       "      <td>193.200</td>\n",
       "      <td>2033.200</td>\n",
       "      <td>e-Shop</td>\n",
       "      <td>1840</td>\n",
       "    </tr>\n",
       "  </tbody>\n",
       "</table>\n",
       "</div>"
      ],
      "text/plain": [
       "    Transaction ID  Customer ID Transaction Date  Prod Subcat Code  \\\n",
       "10     29258453508       270384       2014-02-20                 5   \n",
       "11     25455265351       267750       2014-02-20                12   \n",
       "12      1571002198       275023       2014-02-20                 6   \n",
       "14     36554696014       269345       2014-02-20                 3   \n",
       "15     56814940239       268799       2014-02-20                 7   \n",
       "\n",
       "    Prod Cat Code  Qty  Rate      Tax  Total Amt Store Type  Net_Sales  \n",
       "10              3    5  1497  785.925   8270.925     e-Shop       7485  \n",
       "11              6    3  1360  428.400   4508.400     e-Shop       4080  \n",
       "12              5    4   587  246.540   2594.540     e-Shop       2348  \n",
       "14              5    3  1253  394.695   4153.695     e-Shop       3759  \n",
       "15              5    5   368  193.200   2033.200     e-Shop       1840  "
      ]
     },
     "execution_count": 33,
     "metadata": {},
     "output_type": "execute_result"
    }
   ],
   "source": [
    "tran_df2.head()"
   ]
  },
  {
   "cell_type": "markdown",
   "id": "82c55f63",
   "metadata": {},
   "source": [
    "## ii) Product Data"
   ]
  },
  {
   "cell_type": "code",
   "execution_count": 34,
   "id": "07f26f60",
   "metadata": {},
   "outputs": [
    {
     "data": {
      "text/html": [
       "<div>\n",
       "<style scoped>\n",
       "    .dataframe tbody tr th:only-of-type {\n",
       "        vertical-align: middle;\n",
       "    }\n",
       "\n",
       "    .dataframe tbody tr th {\n",
       "        vertical-align: top;\n",
       "    }\n",
       "\n",
       "    .dataframe thead th {\n",
       "        text-align: right;\n",
       "    }\n",
       "</style>\n",
       "<table border=\"1\" class=\"dataframe\">\n",
       "  <thead>\n",
       "    <tr style=\"text-align: right;\">\n",
       "      <th></th>\n",
       "      <th>Prod Cat Code</th>\n",
       "      <th>Prod Cat</th>\n",
       "      <th>Prod Subcat Code</th>\n",
       "      <th>Prod Subcat</th>\n",
       "    </tr>\n",
       "  </thead>\n",
       "  <tbody>\n",
       "    <tr>\n",
       "      <th>0</th>\n",
       "      <td>1</td>\n",
       "      <td>Clothing</td>\n",
       "      <td>4</td>\n",
       "      <td>Mens</td>\n",
       "    </tr>\n",
       "    <tr>\n",
       "      <th>1</th>\n",
       "      <td>1</td>\n",
       "      <td>Clothing</td>\n",
       "      <td>1</td>\n",
       "      <td>Women</td>\n",
       "    </tr>\n",
       "    <tr>\n",
       "      <th>2</th>\n",
       "      <td>1</td>\n",
       "      <td>Clothing</td>\n",
       "      <td>3</td>\n",
       "      <td>Kids</td>\n",
       "    </tr>\n",
       "    <tr>\n",
       "      <th>3</th>\n",
       "      <td>2</td>\n",
       "      <td>Footwear</td>\n",
       "      <td>1</td>\n",
       "      <td>Mens</td>\n",
       "    </tr>\n",
       "    <tr>\n",
       "      <th>4</th>\n",
       "      <td>2</td>\n",
       "      <td>Footwear</td>\n",
       "      <td>3</td>\n",
       "      <td>Women</td>\n",
       "    </tr>\n",
       "    <tr>\n",
       "      <th>5</th>\n",
       "      <td>2</td>\n",
       "      <td>Footwear</td>\n",
       "      <td>4</td>\n",
       "      <td>Kids</td>\n",
       "    </tr>\n",
       "    <tr>\n",
       "      <th>6</th>\n",
       "      <td>3</td>\n",
       "      <td>Electronics</td>\n",
       "      <td>4</td>\n",
       "      <td>Mobiles</td>\n",
       "    </tr>\n",
       "    <tr>\n",
       "      <th>7</th>\n",
       "      <td>3</td>\n",
       "      <td>Electronics</td>\n",
       "      <td>5</td>\n",
       "      <td>Computers</td>\n",
       "    </tr>\n",
       "    <tr>\n",
       "      <th>8</th>\n",
       "      <td>3</td>\n",
       "      <td>Electronics</td>\n",
       "      <td>8</td>\n",
       "      <td>Personal Appliances</td>\n",
       "    </tr>\n",
       "    <tr>\n",
       "      <th>9</th>\n",
       "      <td>3</td>\n",
       "      <td>Electronics</td>\n",
       "      <td>9</td>\n",
       "      <td>Cameras</td>\n",
       "    </tr>\n",
       "    <tr>\n",
       "      <th>10</th>\n",
       "      <td>3</td>\n",
       "      <td>Electronics</td>\n",
       "      <td>10</td>\n",
       "      <td>Audio and video</td>\n",
       "    </tr>\n",
       "    <tr>\n",
       "      <th>11</th>\n",
       "      <td>4</td>\n",
       "      <td>Bags</td>\n",
       "      <td>1</td>\n",
       "      <td>Mens</td>\n",
       "    </tr>\n",
       "    <tr>\n",
       "      <th>12</th>\n",
       "      <td>4</td>\n",
       "      <td>Bags</td>\n",
       "      <td>4</td>\n",
       "      <td>Women</td>\n",
       "    </tr>\n",
       "    <tr>\n",
       "      <th>13</th>\n",
       "      <td>5</td>\n",
       "      <td>Books</td>\n",
       "      <td>7</td>\n",
       "      <td>Fiction</td>\n",
       "    </tr>\n",
       "    <tr>\n",
       "      <th>14</th>\n",
       "      <td>5</td>\n",
       "      <td>Books</td>\n",
       "      <td>12</td>\n",
       "      <td>Academic</td>\n",
       "    </tr>\n",
       "    <tr>\n",
       "      <th>15</th>\n",
       "      <td>5</td>\n",
       "      <td>Books</td>\n",
       "      <td>10</td>\n",
       "      <td>Non-Fiction</td>\n",
       "    </tr>\n",
       "    <tr>\n",
       "      <th>16</th>\n",
       "      <td>5</td>\n",
       "      <td>Books</td>\n",
       "      <td>11</td>\n",
       "      <td>Children</td>\n",
       "    </tr>\n",
       "    <tr>\n",
       "      <th>17</th>\n",
       "      <td>5</td>\n",
       "      <td>Books</td>\n",
       "      <td>3</td>\n",
       "      <td>Comics</td>\n",
       "    </tr>\n",
       "    <tr>\n",
       "      <th>18</th>\n",
       "      <td>5</td>\n",
       "      <td>Books</td>\n",
       "      <td>6</td>\n",
       "      <td>DIY</td>\n",
       "    </tr>\n",
       "    <tr>\n",
       "      <th>19</th>\n",
       "      <td>6</td>\n",
       "      <td>Home and kitchen</td>\n",
       "      <td>2</td>\n",
       "      <td>Furnishing</td>\n",
       "    </tr>\n",
       "    <tr>\n",
       "      <th>20</th>\n",
       "      <td>6</td>\n",
       "      <td>Home and kitchen</td>\n",
       "      <td>10</td>\n",
       "      <td>Kitchen</td>\n",
       "    </tr>\n",
       "    <tr>\n",
       "      <th>21</th>\n",
       "      <td>6</td>\n",
       "      <td>Home and kitchen</td>\n",
       "      <td>11</td>\n",
       "      <td>Bath</td>\n",
       "    </tr>\n",
       "    <tr>\n",
       "      <th>22</th>\n",
       "      <td>6</td>\n",
       "      <td>Home and kitchen</td>\n",
       "      <td>12</td>\n",
       "      <td>Tools</td>\n",
       "    </tr>\n",
       "  </tbody>\n",
       "</table>\n",
       "</div>"
      ],
      "text/plain": [
       "    Prod Cat Code          Prod Cat  Prod Subcat Code          Prod Subcat\n",
       "0               1          Clothing                 4                 Mens\n",
       "1               1          Clothing                 1                Women\n",
       "2               1          Clothing                 3                 Kids\n",
       "3               2          Footwear                 1                 Mens\n",
       "4               2          Footwear                 3                Women\n",
       "5               2          Footwear                 4                 Kids\n",
       "6               3       Electronics                 4              Mobiles\n",
       "7               3       Electronics                 5            Computers\n",
       "8               3       Electronics                 8  Personal Appliances\n",
       "9               3       Electronics                 9              Cameras\n",
       "10              3       Electronics                10      Audio and video\n",
       "11              4              Bags                 1                 Mens\n",
       "12              4              Bags                 4                Women\n",
       "13              5             Books                 7              Fiction\n",
       "14              5             Books                12             Academic\n",
       "15              5             Books                10          Non-Fiction\n",
       "16              5             Books                11             Children\n",
       "17              5             Books                 3               Comics\n",
       "18              5             Books                 6                  DIY\n",
       "19              6  Home and kitchen                 2           Furnishing\n",
       "20              6  Home and kitchen                10              Kitchen\n",
       "21              6  Home and kitchen                11                 Bath\n",
       "22              6  Home and kitchen                12                Tools"
      ]
     },
     "execution_count": 34,
     "metadata": {},
     "output_type": "execute_result"
    }
   ],
   "source": [
    "prod_df2"
   ]
  },
  {
   "cell_type": "code",
   "execution_count": 35,
   "id": "f4674a82",
   "metadata": {},
   "outputs": [
    {
     "data": {
      "text/plain": [
       "Prod Cat Code  Prod Cat        \n",
       "1              Clothing            3\n",
       "2              Footwear            3\n",
       "3              Electronics         5\n",
       "4              Bags                2\n",
       "5              Books               6\n",
       "6              Home and kitchen    4\n",
       "Name: Prod Cat, dtype: int64"
      ]
     },
     "execution_count": 35,
     "metadata": {},
     "output_type": "execute_result"
    }
   ],
   "source": [
    "prod_df2.groupby('Prod Cat Code')['Prod Cat'].value_counts()  "
   ]
  },
  {
   "cell_type": "code",
   "execution_count": 36,
   "id": "d96a48d3",
   "metadata": {},
   "outputs": [
    {
     "data": {
      "text/plain": [
       "Prod Subcat Code  Prod Subcat        \n",
       "1                 Mens                   2\n",
       "                  Women                  1\n",
       "2                 Furnishing             1\n",
       "3                 Comics                 1\n",
       "                  Kids                   1\n",
       "                  Women                  1\n",
       "4                 Kids                   1\n",
       "                  Mens                   1\n",
       "                  Mobiles                1\n",
       "                  Women                  1\n",
       "5                 Computers              1\n",
       "6                 DIY                    1\n",
       "7                 Fiction                1\n",
       "8                 Personal Appliances    1\n",
       "9                 Cameras                1\n",
       "10                Audio and video        1\n",
       "                  Kitchen                1\n",
       "                  Non-Fiction            1\n",
       "11                Bath                   1\n",
       "                  Children               1\n",
       "12                Academic               1\n",
       "                  Tools                  1\n",
       "Name: Prod Subcat, dtype: int64"
      ]
     },
     "execution_count": 36,
     "metadata": {},
     "output_type": "execute_result"
    }
   ],
   "source": [
    "prod_df2.groupby('Prod Subcat Code')['Prod Subcat'].value_counts() "
   ]
  },
  {
   "cell_type": "markdown",
   "id": "0d7a38b7",
   "metadata": {},
   "source": [
    "from the product subcategory we are unable to find any proper indication of any specific product. So, merging category and subcategory will help identifying the specific product"
   ]
  },
  {
   "cell_type": "markdown",
   "id": "71f53a2e",
   "metadata": {},
   "source": [
    "### Preprocessing Steps\n",
    "We will merge the category and subcategory for the simplicity in model building\n",
    "1. Merge Prod_Cat_Code and Prod_subcat_code to 'Product Code'\n",
    "2. Merge Prod_Cat and Prod_Subcat to 'Product Info'"
   ]
  },
  {
   "cell_type": "code",
   "execution_count": 37,
   "id": "a028c9c0",
   "metadata": {},
   "outputs": [],
   "source": [
    "#merge 'Prod Cat' with 'Prod Subcat' \n",
    "prod_df2['Product Info'] = prod_df2['Prod Cat'].astype(str) + '_'+ prod_df2['Prod Subcat'].astype(str)"
   ]
  },
  {
   "cell_type": "code",
   "execution_count": 38,
   "id": "d88e6c3b",
   "metadata": {},
   "outputs": [],
   "source": [
    "#merge 'Prod Cat Code' and 'Prod Subcat Code'\n",
    "prod_df2['Product Code'] = prod_df2['Prod Cat Code'].astype(str) + '_'+ prod_df2['Prod Subcat Code'].astype(str)  "
   ]
  },
  {
   "cell_type": "code",
   "execution_count": 39,
   "id": "193104e8",
   "metadata": {},
   "outputs": [
    {
     "data": {
      "text/html": [
       "<div>\n",
       "<style scoped>\n",
       "    .dataframe tbody tr th:only-of-type {\n",
       "        vertical-align: middle;\n",
       "    }\n",
       "\n",
       "    .dataframe tbody tr th {\n",
       "        vertical-align: top;\n",
       "    }\n",
       "\n",
       "    .dataframe thead th {\n",
       "        text-align: right;\n",
       "    }\n",
       "</style>\n",
       "<table border=\"1\" class=\"dataframe\">\n",
       "  <thead>\n",
       "    <tr style=\"text-align: right;\">\n",
       "      <th></th>\n",
       "      <th>Prod Cat Code</th>\n",
       "      <th>Prod Cat</th>\n",
       "      <th>Prod Subcat Code</th>\n",
       "      <th>Prod Subcat</th>\n",
       "      <th>Product Info</th>\n",
       "      <th>Product Code</th>\n",
       "    </tr>\n",
       "  </thead>\n",
       "  <tbody>\n",
       "    <tr>\n",
       "      <th>0</th>\n",
       "      <td>1</td>\n",
       "      <td>Clothing</td>\n",
       "      <td>4</td>\n",
       "      <td>Mens</td>\n",
       "      <td>Clothing_Mens</td>\n",
       "      <td>1_4</td>\n",
       "    </tr>\n",
       "    <tr>\n",
       "      <th>1</th>\n",
       "      <td>1</td>\n",
       "      <td>Clothing</td>\n",
       "      <td>1</td>\n",
       "      <td>Women</td>\n",
       "      <td>Clothing_Women</td>\n",
       "      <td>1_1</td>\n",
       "    </tr>\n",
       "    <tr>\n",
       "      <th>2</th>\n",
       "      <td>1</td>\n",
       "      <td>Clothing</td>\n",
       "      <td>3</td>\n",
       "      <td>Kids</td>\n",
       "      <td>Clothing_Kids</td>\n",
       "      <td>1_3</td>\n",
       "    </tr>\n",
       "    <tr>\n",
       "      <th>3</th>\n",
       "      <td>2</td>\n",
       "      <td>Footwear</td>\n",
       "      <td>1</td>\n",
       "      <td>Mens</td>\n",
       "      <td>Footwear_Mens</td>\n",
       "      <td>2_1</td>\n",
       "    </tr>\n",
       "    <tr>\n",
       "      <th>4</th>\n",
       "      <td>2</td>\n",
       "      <td>Footwear</td>\n",
       "      <td>3</td>\n",
       "      <td>Women</td>\n",
       "      <td>Footwear_Women</td>\n",
       "      <td>2_3</td>\n",
       "    </tr>\n",
       "  </tbody>\n",
       "</table>\n",
       "</div>"
      ],
      "text/plain": [
       "   Prod Cat Code  Prod Cat  Prod Subcat Code Prod Subcat    Product Info  \\\n",
       "0              1  Clothing                 4        Mens   Clothing_Mens   \n",
       "1              1  Clothing                 1       Women  Clothing_Women   \n",
       "2              1  Clothing                 3        Kids   Clothing_Kids   \n",
       "3              2  Footwear                 1        Mens   Footwear_Mens   \n",
       "4              2  Footwear                 3       Women  Footwear_Women   \n",
       "\n",
       "  Product Code  \n",
       "0          1_4  \n",
       "1          1_1  \n",
       "2          1_3  \n",
       "3          2_1  \n",
       "4          2_3  "
      ]
     },
     "execution_count": 39,
     "metadata": {},
     "output_type": "execute_result"
    }
   ],
   "source": [
    "prod_df2.head()"
   ]
  },
  {
   "cell_type": "markdown",
   "id": "6c38efae",
   "metadata": {},
   "source": [
    "## Download the preprocessed dataset "
   ]
  },
  {
   "cell_type": "code",
   "execution_count": 40,
   "id": "5fb68c16",
   "metadata": {},
   "outputs": [],
   "source": [
    "tran_df2.to_csv('../archive/processed_transactions_data.csv', index = False)"
   ]
  },
  {
   "cell_type": "code",
   "execution_count": 41,
   "id": "c41aaeb3",
   "metadata": {},
   "outputs": [],
   "source": [
    "prod_df2.to_csv('../archive/processed_product_data.csv', index = False)"
   ]
  },
  {
   "cell_type": "code",
   "execution_count": 42,
   "id": "092650da",
   "metadata": {},
   "outputs": [],
   "source": [
    "cust_df2.to_csv('../archive/processed_customer_data.csv', index = False)"
   ]
  }
 ],
 "metadata": {
  "kernelspec": {
   "display_name": "Python 3 (ipykernel)",
   "language": "python",
   "name": "python3"
  },
  "language_info": {
   "codemirror_mode": {
    "name": "ipython",
    "version": 3
   },
   "file_extension": ".py",
   "mimetype": "text/x-python",
   "name": "python",
   "nbconvert_exporter": "python",
   "pygments_lexer": "ipython3",
   "version": "3.9.13"
  }
 },
 "nbformat": 4,
 "nbformat_minor": 5
}
